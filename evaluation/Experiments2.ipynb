{
  "cells": [
    {
      "cell_type": "markdown",
      "metadata": {
        "id": "zp_MPId7Nylo"
      },
      "source": [
        "# Experiments"
      ]
    },
    {
      "cell_type": "code",
      "execution_count": null,
      "metadata": {
        "id": "pnmU4DM4V9Xu"
      },
      "outputs": [],
      "source": [
        "from google.colab import drive\n",
        "drive.mount('/content/drive')\n",
        "\n",
        "import sys\n",
        "code_path = \"/content/drive/My Drive/Master Thesis/Code\"\n",
        "if code_path not in sys.path:\n",
        "    sys.path.append(code_path)\n",
        "\n",
        "from data_prep import *\n",
        "from R-GAT import *\n",
        "from BERT-SPC import *\n",
        "from ATAE-LSTM import *\n",
        "\n",
        "# Install when running on Google Collab\n",
        "#!pip install torch-scatter -f https://data.pyg.org/whl/torch-2.6.0+cu124.html\n",
        "#!pip install torch-sparse -f https://data.pyg.org/whl/torch-2.6.0+cu124.html\n",
        "#!pip install torch-geometric\n",
        "#!pip install gensim"
      ]
    },
    {
      "cell_type": "markdown",
      "metadata": {
        "id": "kKQJQc09Nvtn"
      },
      "source": [
        "## Data Preparation"
      ]
    },
    {
      "cell_type": "code",
      "execution_count": 34,
      "metadata": {
        "id": "hn6aLlAj39Zp"
      },
      "outputs": [],
      "source": [
        "# Pick dataset and model\n",
        "dataset_choice = \"Lapt14\"\n",
        "model_choice = \"mistral\""
      ]
    },
    {
      "cell_type": "code",
      "execution_count": null,
      "metadata": {
        "id": "A2iBd1T9VSsA"
      },
      "outputs": [],
      "source": [
        "####### Preparation for Baseline #######\n",
        "\n",
        "df_train = load_xml_to_df(f\"/content/drive/My Drive/Master Thesis/Data/Train_Data/{dataset_choice}_Train.xml\")\n",
        "df_test = load_xml_to_df(f\"/content/drive/My Drive/Master Thesis/Data/Test_Data/{dataset_choice}_Test.xml\")"
      ]
    },
    {
      "cell_type": "code",
      "execution_count": null,
      "metadata": {
        "id": "7Q1eDC7xV_ZN"
      },
      "outputs": [],
      "source": [
        "####### Preparation for Table 4 #######\n",
        "\n",
        "rename_cols = {\"sentiment\": \"polarity\", \"used_extended_aspect\": \"aspect\", \"generated_sentence\": \"sentence\"}\n",
        "\n",
        "# Sample Synthetic and Filtered\n",
        "base_path = f\"/content/drive/My Drive/Master Thesis/Data/{model_choice}\"\n",
        "\n",
        "df_sampled_synthetic = load_and_sample(f\"{base_path}/Synthetic_{dataset_choice}_{model_choice}.csv\", rename_cols, len(df_train))\n",
        "df_sampled_synthetic = clean_sentences(df_sampled_synthetic)\n",
        "\n",
        "df_sampled_filtered = load_and_sample(f\"{base_path}/Filtered_{dataset_choice}_{model_choice}.csv\", rename_cols, len(df_train))\n",
        "df_sampled_filtered = clean_sentences(df_sampled_filtered)\n",
        "\n",
        "# Sample Mixed (50/50 Annotated and Filtered)\n",
        "n_half = len(df_train) // 2\n",
        "df_annotated_sample = df_train.sample(n=n_half, random_state=42).reset_index(drop=True)\n",
        "df_synthetic_sample = df_sampled_filtered.sample(n=n_half, random_state=42).reset_index(drop=True)\n",
        "\n",
        "df_mixed = pd.concat([df_annotated_sample, df_synthetic_sample], ignore_index=True).sample(frac=1, random_state=42).reset_index(drop=True)\n",
        "df_mixed = clean_sentences(df_mixed)"
      ]
    },
    {
      "cell_type": "code",
      "execution_count": null,
      "metadata": {
        "id": "-wdDgWjWQAZq"
      },
      "outputs": [],
      "source": [
        "####### Preparation for Table 5 #######\n",
        "\n",
        "# Load LLM-Rewriting, LLM-Annotating, and IDG datasets\n",
        "llm_r_path = f\"/content/drive/My Drive/Master Thesis/Data/DA/LLM_R_{dataset_choice}_{model_choice}.csv\"\n",
        "llm_a_path = f\"/content/drive/My Drive/Master Thesis/Data/DA/LLM_A_{dataset_choice}_{model_choice}.csv\"\n",
        "idg_df_path = f\"/content/drive/My Drive/Master Thesis/Data/DA/LLM_IDG_{dataset_choice}_{model_choice}.csv\"\n",
        "\n",
        "llm_r_df = load_and_encode(llm_r_path)\n",
        "llm_a_df = load_and_encode(llm_a_path)\n",
        "idg_df = load_and_encode(idg_df_path)\n",
        "\n",
        "# Load and Sample IDG4ABSC\n",
        "target_size = len(df_train)\n",
        "sentiments = df_filtered['polarity'].unique()\n",
        "per_class_target = target_size // len(sentiments)\n",
        "counts = df_filtered['polarity'].value_counts()\n",
        "n_each = min(per_class_target, counts.min())\n",
        "\n",
        "df_synthetic_balanced = pd.concat([\n",
        "    df_filtered[df_filtered['polarity'] == s].sample(n=n_each, random_state=42)\n",
        "    for s in sentiments\n",
        "], ignore_index=True).sample(frac=1, random_state=42).reset_index(drop=True)\n",
        "\n",
        "df_augmented = pd.concat([df_train, df_synthetic_balanced], ignore_index=True).sample(frac=1, random_state=42).reset_index(drop=True)"
      ]
    },
    {
      "cell_type": "markdown",
      "metadata": {
        "id": "QFJ_HquyVLHv"
      },
      "source": [
        "## Get Results"
      ]
    },
    {
      "cell_type": "code",
      "execution_count": null,
      "metadata": {
        "id": "bHyXkBuRWBtB"
      },
      "outputs": [],
      "source": [
        "####### Get Baseline Results #######\n",
        "\n",
        "model = run_rgat(df_train, df_test)"
      ]
    },
    {
      "cell_type": "code",
      "execution_count": null,
      "metadata": {
        "id": "GvBogJ2hWDSc"
      },
      "outputs": [],
      "source": [
        "####### Get Results for Table 4 #######\n",
        "\n",
        "# R-GAT Results\n",
        "model = run_rgat(df_sampled_synthetic, df_test)\n",
        "model = run_rgat(df_sampled_filtered, df_test)\n",
        "model = run_rgat(df_mixed, df_test)\n",
        "\n",
        "# BERT-SPC Results\n",
        "model, tokenizer, label_encoder = bert_spc(df_sampled_synthetic, df_test)\n",
        "model, tokenizer, label_encoder = bert_spc(df_sampled_filtered, df_test)\n",
        "model, tokenizer, label_encoder = bert_spc(df_mixed, df_test)\n",
        "\n",
        "# ATAE-LSTM Results\n",
        "model = run_atae_lstm(df_sampled_synthetic, df_test)\n",
        "model = run_atae_lstm(df_sampled_filtered, df_test)\n",
        "model = run_atae_lstm(df_mixed, df_test)"
      ]
    },
    {
      "cell_type": "code",
      "execution_count": null,
      "metadata": {
        "id": "twJGTABCWDUg"
      },
      "outputs": [],
      "source": [
        "####### Get Results for Table 5 #######\n",
        "\n",
        "model = run_rgat(llm_r_df, df_test)\n",
        "model = run_rgat(llm_a_df, df_test)\n",
        "model = run_rgat(idg_df, df_test)\n",
        "model = run_rgat(df_augmented, df_test)"
      ]
    }
  ],
  "metadata": {
    "colab": {
      "machine_shape": "hm",
      "provenance": []
    },
    "kernelspec": {
      "display_name": "Python 3",
      "name": "python3"
    },
    "language_info": {
      "codemirror_mode": {
        "name": "ipython",
        "version": 3
      },
      "file_extension": ".py",
      "mimetype": "text/x-python",
      "name": "python",
      "nbconvert_exporter": "python",
      "pygments_lexer": "ipython3",
      "version": "3.12.3"
    }
  },
  "nbformat": 4,
  "nbformat_minor": 0
}
